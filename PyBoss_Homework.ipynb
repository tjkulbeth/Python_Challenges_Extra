{
 "cells": [
  {
   "cell_type": "code",
   "execution_count": 1,
   "metadata": {},
   "outputs": [],
   "source": [
    "import csv"
   ]
  },
  {
   "cell_type": "code",
   "execution_count": 2,
   "metadata": {},
   "outputs": [],
   "source": [
    "filename = \"employee_data.csv\"\n",
    "with open (filename, \"r\") as csvfile:\n",
    "    csvreader = csv.reader(csvfile, delimiter=',')\n",
    "#     next(csvreader, None)\n",
    "    data = list(csvreader)"
   ]
  },
  {
   "cell_type": "code",
   "execution_count": 3,
   "metadata": {},
   "outputs": [
    {
     "name": "stdout",
     "output_type": "stream",
     "text": [
      "['Emp ID', 'Name', 'DOB', 'SSN', 'State']\n"
     ]
    }
   ],
   "source": [
    "print(data[0])\n",
    "    "
   ]
  },
  {
   "cell_type": "code",
   "execution_count": 4,
   "metadata": {},
   "outputs": [
    {
     "name": "stdout",
     "output_type": "stream",
     "text": [
      "['Emp ID', 'First Name', 'Last Name', 'DOB', 'SSN', 'State']\n"
     ]
    }
   ],
   "source": [
    "header=[\"Emp ID\", \"First Name\", \"Last Name\", \"DOB\", \"SSN\", \"State\"]\n",
    "print(header)\n",
    "    "
   ]
  },
  {
   "cell_type": "code",
   "execution_count": 5,
   "metadata": {},
   "outputs": [
    {
     "name": "stdout",
     "output_type": "stream",
     "text": [
      "['Emp ID', 'First Name', 'Last Name', 'DOB', 'SSN', 'State']\n"
     ]
    }
   ],
   "source": [
    "data[0]=header\n",
    "print(data[0])"
   ]
  },
  {
   "cell_type": "code",
   "execution_count": 6,
   "metadata": {},
   "outputs": [],
   "source": [
    "del data[0]\n",
    "# print(data)"
   ]
  },
  {
   "cell_type": "code",
   "execution_count": 7,
   "metadata": {},
   "outputs": [],
   "source": [
    "# Manipulate data\n",
    "for row in data:\n",
    "    # Break name out to two columns\n",
    "    name = row[1]\n",
    "    namelist = name.split()\n",
    "    firstname=namelist[0]\n",
    "    lastname=namelist[1]\n",
    "#     print(firstname)\n",
    "#     print(lastname)\n",
    "    del row[1]\n",
    "    row.insert(1,firstname)\n",
    "    row.insert(2,lastname)"
   ]
  },
  {
   "cell_type": "code",
   "execution_count": 8,
   "metadata": {},
   "outputs": [],
   "source": [
    "# Modify Date\n",
    "for row in data:\n",
    "    b_date = row[3]\n",
    "    splitdate = b_date.split(\"-\")\n",
    "    year = splitdate[0]\n",
    "    month = splitdate[1]\n",
    "    day = splitdate[2]\n",
    "#     print(year)\n",
    "#     print(month)\n",
    "#     print(day)\n",
    "    mod_date= (f\"{month}/{day}/{year}\")\n",
    "    del row[3]\n",
    "    row.insert(3,mod_date)\n",
    "#     print(mod_date)"
   ]
  },
  {
   "cell_type": "code",
   "execution_count": 9,
   "metadata": {},
   "outputs": [],
   "source": [
    "# Modify SSN Number\n",
    "for row in data:\n",
    "    ssn = row[4]\n",
    "    splitssn = ssn.split(\"-\")\n",
    "    splitssn[0]= \"***\"\n",
    "    splitssn[1]= \"**\"\n",
    "    modssn= (f\"{splitssn[0]}-{splitssn[1]}-{splitssn[2]}\")\n",
    "    del row[4]\n",
    "    row.insert(4,modssn)\n",
    "#     print(modssn)"
   ]
  },
  {
   "cell_type": "code",
   "execution_count": 10,
   "metadata": {},
   "outputs": [],
   "source": [
    "#Modify State\n",
    "us_state_abbrev = {'Alabama': 'AL', 'Alaska': 'AK','Arizona': 'AZ','Arkansas': 'AR','California': 'CA','Colorado': 'CO','Connecticut': 'CT',\n",
    "    'Delaware': 'DE','Florida': 'FL','Georgia': 'GA','Hawaii': 'HI','Idaho': 'ID','Illinois': 'IL','Indiana': 'IN','Iowa': 'IA',\n",
    "    'Kansas': 'KS','Kentucky': 'KY','Louisiana': 'LA','Maine': 'ME','Maryland': 'MD','Massachusetts': 'MA',\n",
    "    'Michigan': 'MI','Minnesota': 'MN','Mississippi': 'MS','Missouri': 'MO','Montana': 'MT','Nebraska': 'NE','Nevada': 'NV',\n",
    "    'New Hampshire': 'NH','New Jersey': 'NJ','New Mexico': 'NM','New York': 'NY','North Carolina': 'NC','North Dakota': 'ND',\n",
    "    'Ohio': 'OH','Oklahoma': 'OK','Oregon': 'OR','Pennsylvania': 'PA','Rhode Island': 'RI','South Carolina': 'SC','South Dakota': 'SD',\n",
    "    'Tennessee': 'TN','Texas': 'TX','Utah': 'UT','Vermont': 'VT','Virginia': 'VA','Washington': 'WA','West Virginia': 'WV',\n",
    "    'Wisconsin': 'WI','Wyoming': 'WY',\n",
    "}\n",
    "for row in data:\n",
    "    state = row[5]\n",
    "    abbrev_state = us_state_abbrev.get(state)\n",
    "    del row[5]\n",
    "    row.insert(5,abbrev_state)\n",
    "# print(data)"
   ]
  },
  {
   "cell_type": "code",
   "execution_count": 11,
   "metadata": {},
   "outputs": [],
   "source": [
    "#Insert Header\n",
    "data.insert(0,header)\n",
    "# print(data)"
   ]
  },
  {
   "cell_type": "code",
   "execution_count": 24,
   "metadata": {},
   "outputs": [],
   "source": [
    "#Export to CSV file\n",
    "filename = \"employee_data_2.csv\"\n",
    "with open (filename, \"w\", newline='') as csvfile:\n",
    "    csvwriter = csv.writer(csvfile)\n",
    "    csvwriter = csvwriter.writerows(data)\n",
    "\n",
    "csvfile.close()"
   ]
  },
  {
   "cell_type": "code",
   "execution_count": null,
   "metadata": {},
   "outputs": [],
   "source": []
  }
 ],
 "metadata": {
  "kernelspec": {
   "display_name": "Python 3",
   "language": "python",
   "name": "python3"
  },
  "language_info": {
   "codemirror_mode": {
    "name": "ipython",
    "version": 3
   },
   "file_extension": ".py",
   "mimetype": "text/x-python",
   "name": "python",
   "nbconvert_exporter": "python",
   "pygments_lexer": "ipython3",
   "version": "3.7.1"
  }
 },
 "nbformat": 4,
 "nbformat_minor": 2
}
