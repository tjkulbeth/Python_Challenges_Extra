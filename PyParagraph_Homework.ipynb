{
 "cells": [
  {
   "cell_type": "code",
   "execution_count": 1,
   "metadata": {},
   "outputs": [],
   "source": [
    "import csv\n",
    "import re\n",
    "\n",
    "letter_list = []"
   ]
  },
  {
   "cell_type": "code",
   "execution_count": 2,
   "metadata": {},
   "outputs": [],
   "source": [
    "filename = open(\"raw_data/paragraph_1.txt\", \"r\")\n",
    "lines = filename.readlines()\n",
    "str1 = \" \".join(lines)\n",
    "words = str1.split()\n",
    "sentences = re.split(\"(?<=[.!?]) +\",str1)\n",
    "# print(words)\n",
    "# print(\"-------------------------------------------------------------------------------------------------------------------\")\n",
    "# print(sentences)"
   ]
  },
  {
   "cell_type": "code",
   "execution_count": 3,
   "metadata": {},
   "outputs": [],
   "source": [
    "# Count number of words\n",
    "word_count = len(words)\n",
    "\n",
    "# Count total number of sentences\n",
    "sent_count =len(sentences)\n",
    "\n",
    "# Letter Count\n",
    "for row in words:\n",
    "    letter_count = len(words[0])\n",
    "    letter_list.append(letter_count)\n",
    "letter_count = sum(letter_list)/word_count\n",
    "\n",
    "#Average sentence length in words\n",
    "sent_length = word_count/sent_count\n"
   ]
  },
  {
   "cell_type": "code",
   "execution_count": 4,
   "metadata": {},
   "outputs": [
    {
     "name": "stdout",
     "output_type": "stream",
     "text": [
      "Paragraph Analysis\n",
      "-----------------------------\n",
      "Approximate Word Count: 130\n",
      "Approximate Sentence Count: 5\n",
      "Approximate Letter Count: 4.0\n",
      "Approximate Sentence Length: 26.0\n"
     ]
    }
   ],
   "source": [
    "#Print out summary\n",
    "print(\"Paragraph Analysis\")\n",
    "print(\"-----------------------------\")\n",
    "print(f\"Approximate Word Count: {word_count}\")\n",
    "print(f\"Approximate Sentence Count: {sent_count}\")\n",
    "print(f\"Approximate Letter Count: {letter_count}\")\n",
    "print(f\"Approximate Sentence Length: {sent_length}\")"
   ]
  },
  {
   "cell_type": "code",
   "execution_count": null,
   "metadata": {},
   "outputs": [],
   "source": []
  }
 ],
 "metadata": {
  "kernelspec": {
   "display_name": "Python 3",
   "language": "python",
   "name": "python3"
  },
  "language_info": {
   "codemirror_mode": {
    "name": "ipython",
    "version": 3
   },
   "file_extension": ".py",
   "mimetype": "text/x-python",
   "name": "python",
   "nbconvert_exporter": "python",
   "pygments_lexer": "ipython3",
   "version": "3.7.1"
  }
 },
 "nbformat": 4,
 "nbformat_minor": 2
}
